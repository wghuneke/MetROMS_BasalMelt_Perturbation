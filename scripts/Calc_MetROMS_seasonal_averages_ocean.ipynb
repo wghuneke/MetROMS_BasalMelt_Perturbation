{
 "cells": [
  {
   "cell_type": "markdown",
   "id": "4dfd00ed-6846-42f8-b43b-b9fd26864cbb",
   "metadata": {},
   "source": [
    "# Calculate and save seasonal averages of MetROMS ocean output"
   ]
  },
  {
   "cell_type": "code",
   "execution_count": 1,
   "id": "54af6bb0-84ac-4c7c-ab8c-93c861e05f81",
   "metadata": {},
   "outputs": [],
   "source": [
    "import numpy as np\n",
    "import xarray as xr\n",
    "import pandas as pd\n",
    "import cmocean as cmo\n",
    "import matplotlib.pyplot as plt\n",
    "import subprocess\n",
    "\n",
    "import matplotlib.gridspec as gridspec"
   ]
  },
  {
   "cell_type": "code",
   "execution_count": 2,
   "id": "ede4b787-7360-44bc-8b32-d40750b4bed8",
   "metadata": {},
   "outputs": [],
   "source": [
    "# model info\n",
    "diri      = '/g/data/gh9/wgh581/ROMS_Output/metroms_files/RAW/'\n",
    "cntr_expt = 'metroms_CONTROL' \n",
    "pert_expt = 'metroms_4SSFLUX'\n",
    "pert_2SSFLUX_expt = 'metroms_2SSFLUX'\n",
    "\n",
    "# variable names\n",
    "#varname   = ['dvidtt','dvidtd']\n",
    "#varname   = ['aice','hi']\n",
    "varname   = ['uvel','vvel']\n",
    "\n",
    "#time domain for each experimnt\n",
    "yrst = 2002 ; mst = 2\n",
    "yren = 2011 ; men = 11 \n",
    "\n",
    "#spatial domain (self-explanatory)\n",
    "latmax = -50.\n",
    "lonmin = 140#150.\n",
    "lonmax = 300#300. \n",
    "\n",
    "# output file destination\n",
    "path_to_data = '/g/data/gh9/wgh581/ROMS_Output/metroms_files/POST_PROCESS/'"
   ]
  },
  {
   "cell_type": "markdown",
   "id": "ddf68483-c874-4294-b369-bfc16aac6fda",
   "metadata": {},
   "source": [
    "#### Function to read data for each experiment"
   ]
  },
  {
   "cell_type": "code",
   "execution_count": 9,
   "id": "6ef4070c-c64a-4a14-90a5-121173162be4",
   "metadata": {},
   "outputs": [],
   "source": [
    "def test(ename):\n",
    "\n",
    "    yrstr = [str(int) for int in np.arange(yrst, 1+yren)] \n",
    "    CMD  = 'ls '+diri+ename+'/cice/history/iceh.{'+','.join(yrstr)+'}-??-??.nc'\n",
    "    print(CMD)"
   ]
  },
  {
   "cell_type": "code",
   "execution_count": 14,
   "id": "d705c545-8380-4df3-b0f2-39020e393759",
   "metadata": {},
   "outputs": [
    {
     "name": "stdout",
     "output_type": "stream",
     "text": [
      "ls /g/data/gh9/wgh581/ROMS_Output/metroms_files/RAW/metroms_CONTROL/cice/history/iceh.{2002,2003,2004,2005,2006,2007,2008,2009,2010,2011}-??-??.nc\n"
     ]
    }
   ],
   "source": [
    "tets = test(cntr_expt)"
   ]
  },
  {
   "cell_type": "code",
   "execution_count": 10,
   "id": "de4067fb-6c9d-4a2a-805c-a1116b3508e6",
   "metadata": {},
   "outputs": [],
   "source": [
    "def get_data(ename):\n",
    "    \n",
    "    # yrstr = [str(int) for int in np.arange(yrst, 1+yren)] \n",
    "    CMD  = 'ls '+diri+ename+'/ocean_avg_00??.nc'\n",
    "    fili = subprocess.run(CMD, shell=True, capture_output=True)  #run CMD as a bash command\n",
    "    fili = fili.stdout.decode().split('\\n')[0:-1] \n",
    "\n",
    "    data = xr.open_mfdataset(fili, parallel=True)\n",
    "    var  = data[varname]\n",
    "   \n",
    "    # reduce to specified spatial domain\n",
    "    #var = var.where((data.TLAT <= latmax) & (data.TLON >= lonmin) & (data.TLON <= lonmax), drop=True)\n",
    "\n",
    "    # Select surface value\n",
    "    var = var.sel(s_rho=0, method='nearest')\n",
    "\n",
    "    # get required time domain (time mean of)\n",
    "    stdat = str(yrst)+'-'+str(mst)\n",
    "    endat = str(yren)+'-'+str(men)\n",
    "    var   = var.sel(ocean_time=slice(stdat,endat))#.mean('time')\n",
    "    # rename time coordinate\n",
    "    var   = var.rename({'ocean_time': 'time'})\n",
    "               \n",
    "    return var"
   ]
  },
  {
   "cell_type": "markdown",
   "id": "328c44f2-8c3a-4007-b594-a2c871a45993",
   "metadata": {},
   "source": [
    "Ocean surface velocities"
   ]
  },
  {
   "cell_type": "code",
   "execution_count": 52,
   "id": "1831ae18-02c6-466e-90c8-b059005b4fdf",
   "metadata": {},
   "outputs": [],
   "source": [
    "%%time\n",
    "varname = ['u', 'v']\n",
    "velocity_cntr = get_data(cntr_expt).load()\n",
    "velocity_cntr.to_netcdf(path_to_data + 'ocean_u_v_CONTROL_2002_2011_full_circumpolar.nc')"
   ]
  },
  {
   "cell_type": "code",
   "execution_count": 55,
   "id": "34932656-d223-4003-b86b-7c3047bcb921",
   "metadata": {},
   "outputs": [
    {
     "name": "stdout",
     "output_type": "stream",
     "text": [
      "CPU times: user 17 s, sys: 11.1 s, total: 28.1 s\n",
      "Wall time: 38.5 s\n"
     ]
    }
   ],
   "source": [
    "%%time\n",
    "varname = ['u', 'v']\n",
    "velocity_pert_2 = get_data(pert_2SSFLUX_expt).load()\n",
    "velocity_pert_2.to_netcdf(path_to_data + 'ocean_u_v_2SSFLUX_2002_2011_full_circumpolar.nc')"
   ]
  },
  {
   "cell_type": "code",
   "execution_count": 56,
   "id": "fcb38ba5-84ff-48bc-a114-55af93c5531d",
   "metadata": {},
   "outputs": [
    {
     "name": "stdout",
     "output_type": "stream",
     "text": [
      "CPU times: user 16 s, sys: 11.1 s, total: 27.1 s\n",
      "Wall time: 37 s\n"
     ]
    }
   ],
   "source": [
    "%%time\n",
    "varname = ['u', 'v']\n",
    "velocity_pert_4 = get_data(pert_expt).load()\n",
    "velocity_pert_4.to_netcdf(path_to_data + 'ocean_u_v_4SSFLUX_2002_2011_full_circumpolar.nc')"
   ]
  },
  {
   "cell_type": "markdown",
   "id": "a4a1f356-c5b5-4846-a915-87d1fbd2e690",
   "metadata": {},
   "source": [
    "Ocean surface temperature"
   ]
  },
  {
   "cell_type": "code",
   "execution_count": 51,
   "id": "264accb3-ca81-41f3-9720-bbce0e38cf05",
   "metadata": {},
   "outputs": [
    {
     "name": "stdout",
     "output_type": "stream",
     "text": [
      "CPU times: user 15.3 s, sys: 8.48 s, total: 23.8 s\n",
      "Wall time: 17.5 s\n"
     ]
    }
   ],
   "source": [
    "%%time\n",
    "varname  = ['temp']\n",
    "sst_cntr = get_data(cntr_expt).load()\n",
    "sst_cntr.to_netcdf(path_to_data + 'ocean_SST_CONTROL_2002_2011_full_circumpolar.nc')"
   ]
  },
  {
   "cell_type": "code",
   "execution_count": 53,
   "id": "d0ae0c80-5b13-4341-bc5b-0a1a6b435dbc",
   "metadata": {},
   "outputs": [
    {
     "name": "stdout",
     "output_type": "stream",
     "text": [
      "CPU times: user 14.1 s, sys: 8.73 s, total: 22.9 s\n",
      "Wall time: 35.2 s\n"
     ]
    }
   ],
   "source": [
    "%%time\n",
    "varname  = ['temp']\n",
    "sst_pert_2 = get_data(pert_2SSFLUX_expt).load()\n",
    "sst_pert_2.to_netcdf(path_to_data + 'ocean_SST_2SSFLUX_2002_2011_full_circumpolar.nc')"
   ]
  },
  {
   "cell_type": "code",
   "execution_count": 54,
   "id": "ebe1e197-a229-4aae-b43c-be6f3f139970",
   "metadata": {},
   "outputs": [
    {
     "name": "stdout",
     "output_type": "stream",
     "text": [
      "CPU times: user 13.9 s, sys: 8.72 s, total: 22.6 s\n",
      "Wall time: 34 s\n"
     ]
    }
   ],
   "source": [
    "%%time\n",
    "varname  = ['temp']\n",
    "sst_pert_4 = get_data(pert_expt).load()\n",
    "sst_pert_4.to_netcdf(path_to_data + 'ocean_SST_4SSFLUX_2002_2011_full_circumpolar.nc')"
   ]
  },
  {
   "cell_type": "markdown",
   "id": "7612e818-7c17-46ac-a26e-08cff7787526",
   "metadata": {},
   "source": [
    "## 3d fields"
   ]
  },
  {
   "cell_type": "code",
   "execution_count": 3,
   "id": "f38abe88-7185-4473-8b93-7bf7965e21b6",
   "metadata": {},
   "outputs": [],
   "source": [
    "yrst = 2008 ; mst = 12"
   ]
  },
  {
   "cell_type": "code",
   "execution_count": 4,
   "id": "56aa7dec-f00a-4b8b-8965-4aeca7a1d602",
   "metadata": {},
   "outputs": [],
   "source": [
    "def get_data_3d(ename, varname):\n",
    "    \n",
    "    # yrstr = [str(int) for int in np.arange(yrst, 1+yren)] \n",
    "    CMD  = 'ls '+diri+ename+'/ocean_avg_00??.nc'\n",
    "    fili = subprocess.run(CMD, shell=True, capture_output=True)  #run CMD as a bash command\n",
    "    fili = fili.stdout.decode().split('\\n')[0:-1] \n",
    "\n",
    "    data = xr.open_mfdataset(fili, parallel=True)\n",
    "    var  = data[varname]\n",
    "   \n",
    "    # reduce to specified spatial domain\n",
    "    #var = var.where((data.TLAT <= latmax) & (data.TLON >= lonmin) & (data.TLON <= lonmax), drop=True)\n",
    "\n",
    "    # Select surface value\n",
    "    # var = var.sel(s_rho=0, method='nearest')\n",
    "\n",
    "    # get required time domain (time mean of)\n",
    "    stdat = str(yrst)+'-'+str(mst)\n",
    "    endat = str(yren)+'-'+str(men)\n",
    "    var   = var.sel(ocean_time=slice(stdat,endat))#.mean('time')\n",
    "    # rename time coordinate\n",
    "    var   = var.rename({'ocean_time': 'time'})\n",
    "               \n",
    "    return var"
   ]
  },
  {
   "cell_type": "markdown",
   "id": "a315690f-6d23-492a-9c76-277802cae25b",
   "metadata": {},
   "source": [
    "Control"
   ]
  },
  {
   "cell_type": "code",
   "execution_count": 5,
   "id": "04eb40f1-2826-4786-afe9-5aab0eec4cb6",
   "metadata": {},
   "outputs": [
    {
     "name": "stdout",
     "output_type": "stream",
     "text": [
      "CPU times: user 33.6 s, sys: 34.6 s, total: 1min 8s\n",
      "Wall time: 2min 42s\n"
     ]
    }
   ],
   "source": [
    "%%time\n",
    "varname  = ['temp']\n",
    "temp_cntr = get_data_3d(cntr_expt, varname).load()\n",
    "temp_cntr.to_netcdf(path_to_data + 'ocean_temp_3d_CONTROL_2008_2011_full_circumpolar.nc')"
   ]
  },
  {
   "cell_type": "code",
   "execution_count": 13,
   "id": "e9aaa92d-b211-45be-be61-4755e5548003",
   "metadata": {},
   "outputs": [
    {
     "name": "stdout",
     "output_type": "stream",
     "text": [
      "CPU times: user 20.4 s, sys: 23.2 s, total: 43.6 s\n",
      "Wall time: 52.2 s\n"
     ]
    }
   ],
   "source": [
    "%%time\n",
    "varname  = ['salt']\n",
    "salt_cntr = get_data_3d(cntr_expt, varname).load()\n",
    "salt_cntr.to_netcdf(path_to_data + 'ocean_salt_3d_CONTROL_2008_2011_full_circumpolar.nc')"
   ]
  },
  {
   "cell_type": "markdown",
   "id": "391c7a4a-f021-44d2-a0af-885e66136174",
   "metadata": {},
   "source": [
    "2SSFLUX"
   ]
  },
  {
   "cell_type": "code",
   "execution_count": 5,
   "id": "0b93ac9d-d821-4b44-8842-1c33deeb2269",
   "metadata": {},
   "outputs": [
    {
     "name": "stdout",
     "output_type": "stream",
     "text": [
      "CPU times: user 32.7 s, sys: 31.2 s, total: 1min 3s\n",
      "Wall time: 1min 25s\n"
     ]
    }
   ],
   "source": [
    "%%time\n",
    "varname  = ['temp']\n",
    "temp_2SSFLUX = get_data_3d(pert_2SSFLUX_expt, varname).load()\n",
    "temp_2SSFLUX.to_netcdf(path_to_data + 'ocean_temp_3d_2SSFLUX_2008_2011_full_circumpolar.nc')"
   ]
  },
  {
   "cell_type": "code",
   "execution_count": 6,
   "id": "64a4d907-ef32-4755-b925-366bdff2dba6",
   "metadata": {},
   "outputs": [
    {
     "name": "stdout",
     "output_type": "stream",
     "text": [
      "CPU times: user 20.5 s, sys: 22.2 s, total: 42.7 s\n",
      "Wall time: 44.9 s\n"
     ]
    }
   ],
   "source": [
    "%%time\n",
    "varname  = ['salt']\n",
    "salt_2SSFLUX = get_data_3d(pert_2SSFLUX_expt, varname).load()\n",
    "salt_2SSFLUX.to_netcdf(path_to_data + 'ocean_salt_3d_2SSFLUX_2008_2011_full_circumpolar.nc')"
   ]
  },
  {
   "cell_type": "code",
   "execution_count": null,
   "id": "ab3dded3-f9e4-4544-9856-3caa5b41ac4f",
   "metadata": {},
   "outputs": [],
   "source": []
  }
 ],
 "metadata": {
  "kernelspec": {
   "display_name": "Python [conda env:analysis3-22.07]",
   "language": "python",
   "name": "conda-env-analysis3-22.07-py"
  },
  "language_info": {
   "codemirror_mode": {
    "name": "ipython",
    "version": 3
   },
   "file_extension": ".py",
   "mimetype": "text/x-python",
   "name": "python",
   "nbconvert_exporter": "python",
   "pygments_lexer": "ipython3",
   "version": "3.9.15"
  }
 },
 "nbformat": 4,
 "nbformat_minor": 5
}
