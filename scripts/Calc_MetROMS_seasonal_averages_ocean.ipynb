{
 "cells": [
  {
   "cell_type": "markdown",
   "id": "4dfd00ed-6846-42f8-b43b-b9fd26864cbb",
   "metadata": {},
   "source": [
    "# Calculate and save seasonal averages of MetROMS ocean output"
   ]
  },
  {
   "cell_type": "code",
   "execution_count": null,
   "id": "54af6bb0-84ac-4c7c-ab8c-93c861e05f81",
   "metadata": {},
   "outputs": [],
   "source": []
  }
 ],
 "metadata": {
  "kernelspec": {
   "display_name": "Python [conda env:analysis3-22.07]",
   "language": "python",
   "name": "conda-env-analysis3-22.07-py"
  },
  "language_info": {
   "codemirror_mode": {
    "name": "ipython",
    "version": 3
   },
   "file_extension": ".py",
   "mimetype": "text/x-python",
   "name": "python",
   "nbconvert_exporter": "python",
   "pygments_lexer": "ipython3",
   "version": "3.9.15"
  }
 },
 "nbformat": 4,
 "nbformat_minor": 5
}
